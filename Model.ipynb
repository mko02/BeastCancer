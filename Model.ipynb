{
 "cells": [
  {
   "cell_type": "code",
   "execution_count": 4,
   "metadata": {},
   "outputs": [],
   "source": [
    "import pandas as pd\n",
    "import seaborn as sns\n",
    "import matplotlib.pyplot as plt\n",
    "import scipy.stats as stats\n"
   ]
  },
  {
   "cell_type": "code",
   "execution_count": 7,
   "metadata": {},
   "outputs": [
    {
     "data": {
      "text/html": [
       "<div>\n",
       "<style scoped>\n",
       "    .dataframe tbody tr th:only-of-type {\n",
       "        vertical-align: middle;\n",
       "    }\n",
       "\n",
       "    .dataframe tbody tr th {\n",
       "        vertical-align: top;\n",
       "    }\n",
       "\n",
       "    .dataframe thead th {\n",
       "        text-align: right;\n",
       "    }\n",
       "</style>\n",
       "<table border=\"1\" class=\"dataframe\">\n",
       "  <thead>\n",
       "    <tr style=\"text-align: right;\">\n",
       "      <th></th>\n",
       "      <th>Unnamed: 0</th>\n",
       "      <th>Country</th>\n",
       "      <th>Total_Spent</th>\n",
       "      <th>Imm_SV</th>\n",
       "      <th>Life Exp SV</th>\n",
       "      <th>Infant SV</th>\n",
       "      <th>Doctor Density SV</th>\n",
       "    </tr>\n",
       "  </thead>\n",
       "  <tbody>\n",
       "    <tr>\n",
       "      <th>0</th>\n",
       "      <td>0</td>\n",
       "      <td>Australia</td>\n",
       "      <td>5627.315</td>\n",
       "      <td>0.847195</td>\n",
       "      <td>0.961310</td>\n",
       "      <td>0.000000</td>\n",
       "      <td>0.489286</td>\n",
       "    </tr>\n",
       "    <tr>\n",
       "      <th>1</th>\n",
       "      <td>1</td>\n",
       "      <td>Austria</td>\n",
       "      <td>5882.745</td>\n",
       "      <td>0.857283</td>\n",
       "      <td>0.919643</td>\n",
       "      <td>0.000000</td>\n",
       "      <td>0.627381</td>\n",
       "    </tr>\n",
       "    <tr>\n",
       "      <th>2</th>\n",
       "      <td>2</td>\n",
       "      <td>Belgium</td>\n",
       "      <td>5406.979</td>\n",
       "      <td>0.942585</td>\n",
       "      <td>0.913690</td>\n",
       "      <td>0.008850</td>\n",
       "      <td>0.721429</td>\n",
       "    </tr>\n",
       "    <tr>\n",
       "      <th>3</th>\n",
       "      <td>3</td>\n",
       "      <td>Canada</td>\n",
       "      <td>5828.324</td>\n",
       "      <td>0.802411</td>\n",
       "      <td>0.937500</td>\n",
       "      <td>0.017699</td>\n",
       "      <td>0.288095</td>\n",
       "    </tr>\n",
       "    <tr>\n",
       "      <th>4</th>\n",
       "      <td>4</td>\n",
       "      <td>Denmark</td>\n",
       "      <td>5693.651</td>\n",
       "      <td>0.859252</td>\n",
       "      <td>0.910714</td>\n",
       "      <td>0.035398</td>\n",
       "      <td>0.500000</td>\n",
       "    </tr>\n",
       "  </tbody>\n",
       "</table>\n",
       "</div>"
      ],
      "text/plain": [
       "   Unnamed: 0    Country  Total_Spent    Imm_SV  Life Exp SV  Infant SV  \\\n",
       "0           0  Australia     5627.315  0.847195     0.961310   0.000000   \n",
       "1           1    Austria     5882.745  0.857283     0.919643   0.000000   \n",
       "2           2    Belgium     5406.979  0.942585     0.913690   0.008850   \n",
       "3           3     Canada     5828.324  0.802411     0.937500   0.017699   \n",
       "4           4    Denmark     5693.651  0.859252     0.910714   0.035398   \n",
       "\n",
       "   Doctor Density SV  \n",
       "0           0.489286  \n",
       "1           0.627381  \n",
       "2           0.721429  \n",
       "3           0.288095  \n",
       "4           0.500000  "
      ]
     },
     "execution_count": 7,
     "metadata": {},
     "output_type": "execute_result"
    }
   ],
   "source": [
    "df = pd.read_csv(\"CSV/full_dataset2.csv\")\n",
    "df.head()"
   ]
  },
  {
   "cell_type": "code",
   "execution_count": 14,
   "metadata": {},
   "outputs": [],
   "source": [
    "def total_factor(row, df, imm, life_exp, infant, d_d):\n",
    "\n",
    "    imm_sv = row[\"Imm_SV\"] * imm\n",
    "    life_exp_sv = row[\"Life Exp SV\"] * life_exp\n",
    "    infant_sv = row[\"Infant SV\"] * infant\n",
    "    d_d_sv = row[\"Doctor Density SV\"] * d_d\n",
    "\n",
    "    sum = imm_sv + life_exp_sv + infant_sv + d_d_sv\n",
    "\n",
    "    return sum\n"
   ]
  },
  {
   "cell_type": "code",
   "execution_count": 15,
   "metadata": {},
   "outputs": [
    {
     "data": {
      "text/html": [
       "<div>\n",
       "<style scoped>\n",
       "    .dataframe tbody tr th:only-of-type {\n",
       "        vertical-align: middle;\n",
       "    }\n",
       "\n",
       "    .dataframe tbody tr th {\n",
       "        vertical-align: top;\n",
       "    }\n",
       "\n",
       "    .dataframe thead th {\n",
       "        text-align: right;\n",
       "    }\n",
       "</style>\n",
       "<table border=\"1\" class=\"dataframe\">\n",
       "  <thead>\n",
       "    <tr style=\"text-align: right;\">\n",
       "      <th></th>\n",
       "      <th>Unnamed: 0</th>\n",
       "      <th>Country</th>\n",
       "      <th>Total_Spent</th>\n",
       "      <th>Imm_SV</th>\n",
       "      <th>Life Exp SV</th>\n",
       "      <th>Infant SV</th>\n",
       "      <th>Doctor Density SV</th>\n",
       "      <th>Total_SV</th>\n",
       "    </tr>\n",
       "  </thead>\n",
       "  <tbody>\n",
       "    <tr>\n",
       "      <th>0</th>\n",
       "      <td>0</td>\n",
       "      <td>Australia</td>\n",
       "      <td>5627.315</td>\n",
       "      <td>0.847195</td>\n",
       "      <td>0.961310</td>\n",
       "      <td>0.000000</td>\n",
       "      <td>0.489286</td>\n",
       "      <td>0.783742</td>\n",
       "    </tr>\n",
       "    <tr>\n",
       "      <th>1</th>\n",
       "      <td>1</td>\n",
       "      <td>Austria</td>\n",
       "      <td>5882.745</td>\n",
       "      <td>0.857283</td>\n",
       "      <td>0.919643</td>\n",
       "      <td>0.000000</td>\n",
       "      <td>0.627381</td>\n",
       "      <td>0.779745</td>\n",
       "    </tr>\n",
       "    <tr>\n",
       "      <th>2</th>\n",
       "      <td>2</td>\n",
       "      <td>Belgium</td>\n",
       "      <td>5406.979</td>\n",
       "      <td>0.942585</td>\n",
       "      <td>0.913690</td>\n",
       "      <td>0.008850</td>\n",
       "      <td>0.721429</td>\n",
       "      <td>0.812649</td>\n",
       "    </tr>\n",
       "    <tr>\n",
       "      <th>3</th>\n",
       "      <td>3</td>\n",
       "      <td>Canada</td>\n",
       "      <td>5828.324</td>\n",
       "      <td>0.802411</td>\n",
       "      <td>0.937500</td>\n",
       "      <td>0.017699</td>\n",
       "      <td>0.288095</td>\n",
       "      <td>0.740053</td>\n",
       "    </tr>\n",
       "    <tr>\n",
       "      <th>4</th>\n",
       "      <td>4</td>\n",
       "      <td>Denmark</td>\n",
       "      <td>5693.651</td>\n",
       "      <td>0.859252</td>\n",
       "      <td>0.910714</td>\n",
       "      <td>0.035398</td>\n",
       "      <td>0.500000</td>\n",
       "      <td>0.766673</td>\n",
       "    </tr>\n",
       "  </tbody>\n",
       "</table>\n",
       "</div>"
      ],
      "text/plain": [
       "   Unnamed: 0    Country  Total_Spent    Imm_SV  Life Exp SV  Infant SV  \\\n",
       "0           0  Australia     5627.315  0.847195     0.961310   0.000000   \n",
       "1           1    Austria     5882.745  0.857283     0.919643   0.000000   \n",
       "2           2    Belgium     5406.979  0.942585     0.913690   0.008850   \n",
       "3           3     Canada     5828.324  0.802411     0.937500   0.017699   \n",
       "4           4    Denmark     5693.651  0.859252     0.910714   0.035398   \n",
       "\n",
       "   Doctor Density SV  Total_SV  \n",
       "0           0.489286  0.783742  \n",
       "1           0.627381  0.779745  \n",
       "2           0.721429  0.812649  \n",
       "3           0.288095  0.740053  \n",
       "4           0.500000  0.766673  "
      ]
     },
     "execution_count": 15,
     "metadata": {},
     "output_type": "execute_result"
    }
   ],
   "source": [
    "\n",
    "df[\"Total_SV\"] = df.apply(lambda x: total_factor(x, df, 0.3, 0.5, 0.1, 0.1), axis=1)\n",
    "\n",
    "df.head()\n"
   ]
  },
  {
   "cell_type": "code",
   "execution_count": 16,
   "metadata": {},
   "outputs": [
    {
     "data": {
      "image/png": "[encoded data removed]",
      "text/plain": [
       "<Figure size 640x480 with 1 Axes>"
      ]
     },
     "metadata": {},
     "output_type": "display_data"
    }
   ],
   "source": [
    "sns.scatterplot(data = df, x = \"Total_SV\", y = \"Total_Spent\")\n",
    "plt.show()"
   ]
  },
  {
   "cell_type": "code",
   "execution_count": 21,
   "metadata": {},
   "outputs": [],
   "source": [
    "def label_point(x, y, val, ax):\n",
    "    a = pd.concat({'x': x, 'y': y, 'val': val}, axis=1)\n",
    "    for i, point in a.iterrows():\n",
    "        ax.text(point['x']+.02, point['y'], str(point['val']))"
   ]
  },
  {
   "cell_type": "code",
   "execution_count": 30,
   "metadata": {},
   "outputs": [
    {
     "data": {
      "image/png": "[encoded data removed]",
      "text/plain": [
       "<Figure size 640x480 with 1 Axes>"
      ]
     },
     "metadata": {},
     "output_type": "display_data"
    }
   ],
   "source": [
    "sns.regplot(x=\"Total_SV\", y=\"Total_Spent\", data=df)\n",
    "\n",
    "for i, country in enumerate (df[\"Country\"]):\n",
    "    if (country == \"United States\") :\n",
    "        plt.text(df[\"Total_SV\"][i]+0.01, df[\"Total_Spent\"][i]+0.01, country)\n",
    "\n",
    "plt.show()"
   ]
  }
 ],
 "metadata": {
  "kernelspec": {
   "display_name": "Python 3",
   "language": "python",
   "name": "python3"
  },
  "language_info": {
   "codemirror_mode": {
    "name": "ipython",
    "version": 3
   },
   "file_extension": ".py",
   "mimetype": "text/x-python",
   "name": "python",
   "nbconvert_exporter": "python",
   "pygments_lexer": "ipython3",
   "version": "3.9.1"
  },
  "orig_nbformat": 4,
  "vscode": {
   "interpreter": {
    "hash": "aee8b7b246df8f9039afb4144a1f6fd8d2ca17a180786b69acc140d282b71a49"
   }
  }
 },
 "nbformat": 4,
 "nbformat_minor": 2
}
