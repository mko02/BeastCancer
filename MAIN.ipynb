{
 "cells": [
  {
   "cell_type": "code",
   "execution_count": 224,
   "metadata": {},
   "outputs": [],
   "source": [
    "import pandas as pd\n",
    "import seaborn as sns\n",
    "import matplotlib.pyplot as plt\n",
    "import requests\n",
    "import scipy.stats as stats\n",
    "import distribution as dist"
   ]
  },
  {
   "cell_type": "markdown",
   "metadata": {},
   "source": [
    "Medical Access (Updated)"
   ]
  },
  {
   "cell_type": "code",
   "execution_count": 225,
   "metadata": {},
   "outputs": [
    {
     "data": {
      "text/html": [
       "<div>\n",
       "<style scoped>\n",
       "    .dataframe tbody tr th:only-of-type {\n",
       "        vertical-align: middle;\n",
       "    }\n",
       "\n",
       "    .dataframe tbody tr th {\n",
       "        vertical-align: top;\n",
       "    }\n",
       "\n",
       "    .dataframe thead th {\n",
       "        text-align: right;\n",
       "    }\n",
       "</style>\n",
       "<table border=\"1\" class=\"dataframe\">\n",
       "  <thead>\n",
       "    <tr style=\"text-align: right;\">\n",
       "      <th></th>\n",
       "      <th>Unnamed: 0</th>\n",
       "      <th>Density</th>\n",
       "      <th>Density of nursing and midwifery personnelw (per 10 000 population)</th>\n",
       "      <th>Density of dentistsw (per 10 000 population)</th>\n",
       "      <th>Density of pharmacistsw (per 10 000 population)</th>\n",
       "    </tr>\n",
       "  </thead>\n",
       "  <tbody>\n",
       "    <tr>\n",
       "      <th>0</th>\n",
       "      <td>Afghanistan</td>\n",
       "      <td>2.5</td>\n",
       "      <td>4.5</td>\n",
       "      <td>0.7</td>\n",
       "      <td>0.3</td>\n",
       "    </tr>\n",
       "    <tr>\n",
       "      <th>1</th>\n",
       "      <td>Albania</td>\n",
       "      <td>18.8</td>\n",
       "      <td>60.5</td>\n",
       "      <td>10.3</td>\n",
       "      <td>10.8</td>\n",
       "    </tr>\n",
       "    <tr>\n",
       "      <th>2</th>\n",
       "      <td>Algeria</td>\n",
       "      <td>17.2</td>\n",
       "      <td>15.5</td>\n",
       "      <td>3.7</td>\n",
       "      <td>4.5</td>\n",
       "    </tr>\n",
       "    <tr>\n",
       "      <th>3</th>\n",
       "      <td>Andorra</td>\n",
       "      <td>33.3</td>\n",
       "      <td>40.1</td>\n",
       "      <td>8.2</td>\n",
       "      <td>10.1</td>\n",
       "    </tr>\n",
       "    <tr>\n",
       "      <th>4</th>\n",
       "      <td>Angola</td>\n",
       "      <td>2.1</td>\n",
       "      <td>4.1</td>\n",
       "      <td>0.5</td>\n",
       "      <td>0.7</td>\n",
       "    </tr>\n",
       "  </tbody>\n",
       "</table>\n",
       "</div>"
      ],
      "text/plain": [
       "    Unnamed: 0 Density  \\\n",
       "0  Afghanistan     2.5   \n",
       "1      Albania    18.8   \n",
       "2      Algeria    17.2   \n",
       "3      Andorra    33.3   \n",
       "4       Angola     2.1   \n",
       "\n",
       "   Density of nursing and midwifery personnelw (per 10 000 population)   \\\n",
       "0                                                4.5                      \n",
       "1                                               60.5                      \n",
       "2                                               15.5                      \n",
       "3                                               40.1                      \n",
       "4                                                4.1                      \n",
       "\n",
       "  Density of dentistsw (per 10 000 population)   \\\n",
       "0                                           0.7   \n",
       "1                                          10.3   \n",
       "2                                           3.7   \n",
       "3                                           8.2   \n",
       "4                                           0.5   \n",
       "\n",
       "  Density of pharmacistsw (per 10 000 population)   \n",
       "0                                              0.3  \n",
       "1                                             10.8  \n",
       "2                                              4.5  \n",
       "3                                             10.1  \n",
       "4                                              0.7  "
      ]
     },
     "execution_count": 225,
     "metadata": {},
     "output_type": "execute_result"
    }
   ],
   "source": [
    "medical_doctors_access_df = pd.read_excel('CSV/access.xlsx') \n",
    "medical_doctors_access_df.head()"
   ]
  },
  {
   "cell_type": "code",
   "execution_count": 226,
   "metadata": {},
   "outputs": [
    {
     "data": {
      "text/html": [
       "<div>\n",
       "<style scoped>\n",
       "    .dataframe tbody tr th:only-of-type {\n",
       "        vertical-align: middle;\n",
       "    }\n",
       "\n",
       "    .dataframe tbody tr th {\n",
       "        vertical-align: top;\n",
       "    }\n",
       "\n",
       "    .dataframe thead th {\n",
       "        text-align: right;\n",
       "    }\n",
       "</style>\n",
       "<table border=\"1\" class=\"dataframe\">\n",
       "  <thead>\n",
       "    <tr style=\"text-align: right;\">\n",
       "      <th></th>\n",
       "      <th>Unnamed: 0</th>\n",
       "      <th>Density</th>\n",
       "      <th>Density of nursing and midwifery personnelw (per 10 000 population)</th>\n",
       "      <th>Density of dentistsw (per 10 000 population)</th>\n",
       "      <th>Density of pharmacistsw (per 10 000 population)</th>\n",
       "    </tr>\n",
       "  </thead>\n",
       "  <tbody>\n",
       "    <tr>\n",
       "      <th>185</th>\n",
       "      <td>United States</td>\n",
       "      <td>26.1</td>\n",
       "      <td>156.8</td>\n",
       "      <td>6.1</td>\n",
       "      <td>-</td>\n",
       "    </tr>\n",
       "  </tbody>\n",
       "</table>\n",
       "</div>"
      ],
      "text/plain": [
       "        Unnamed: 0 Density  \\\n",
       "185  United States    26.1   \n",
       "\n",
       "     Density of nursing and midwifery personnelw (per 10 000 population)   \\\n",
       "185                                              156.8                      \n",
       "\n",
       "    Density of dentistsw (per 10 000 population)   \\\n",
       "185                                           6.1   \n",
       "\n",
       "    Density of pharmacistsw (per 10 000 population)   \n",
       "185                                                -  "
      ]
     },
     "execution_count": 226,
     "metadata": {},
     "output_type": "execute_result"
    }
   ],
   "source": [
    "medical_doctors_access_df[medical_doctors_access_df[\"Unnamed: 0\"] == \"United States\"].head()"
   ]
  },
  {
   "cell_type": "code",
   "execution_count": 227,
   "metadata": {},
   "outputs": [],
   "source": [
    "mini_medical_doctors_access_df = medical_doctors_access_df[[\"Unnamed: 0\",\"Density\"]]\n",
    "mini_medical_doctors_access_df = mini_medical_doctors_access_df[mini_medical_doctors_access_df['Density'].notna()]\n",
    "mini_medical_doctors_access_df = mini_medical_doctors_access_df[mini_medical_doctors_access_df['Density'] != '-']\n",
    "mini_medical_doctors_access_df.head()\n",
    "\n",
    "mini_medical_doctors_access_df[\"Density\"] = mini_medical_doctors_access_df[\"Density\"].apply(lambda x: float(x))"
   ]
  },
  {
   "cell_type": "code",
   "execution_count": 228,
   "metadata": {},
   "outputs": [
    {
     "name": "stdout",
     "output_type": "stream",
     "text": [
      "Density\n",
      "Mean: 19.62291666666667\n",
      "Std: 17.548654751721383\n",
      "\n"
     ]
    },
    {
     "data": {
      "image/png": "[encoded data removed]",
      "text/plain": [
       "<Figure size 640x480 with 1 Axes>"
      ]
     },
     "metadata": {},
     "output_type": "display_data"
    },
    {
     "data": {
      "text/html": [
       "<div>\n",
       "<style scoped>\n",
       "    .dataframe tbody tr th:only-of-type {\n",
       "        vertical-align: middle;\n",
       "    }\n",
       "\n",
       "    .dataframe tbody tr th {\n",
       "        vertical-align: top;\n",
       "    }\n",
       "\n",
       "    .dataframe thead th {\n",
       "        text-align: right;\n",
       "    }\n",
       "</style>\n",
       "<table border=\"1\" class=\"dataframe\">\n",
       "  <thead>\n",
       "    <tr style=\"text-align: right;\">\n",
       "      <th></th>\n",
       "      <th>Unnamed: 0</th>\n",
       "      <th>Density</th>\n",
       "      <th>Doctor Density Scaled</th>\n",
       "    </tr>\n",
       "  </thead>\n",
       "  <tbody>\n",
       "    <tr>\n",
       "      <th>0</th>\n",
       "      <td>Afghanistan</td>\n",
       "      <td>2.5</td>\n",
       "      <td>0.027381</td>\n",
       "    </tr>\n",
       "    <tr>\n",
       "      <th>1</th>\n",
       "      <td>Albania</td>\n",
       "      <td>18.8</td>\n",
       "      <td>0.221429</td>\n",
       "    </tr>\n",
       "    <tr>\n",
       "      <th>2</th>\n",
       "      <td>Algeria</td>\n",
       "      <td>17.2</td>\n",
       "      <td>0.202381</td>\n",
       "    </tr>\n",
       "    <tr>\n",
       "      <th>3</th>\n",
       "      <td>Andorra</td>\n",
       "      <td>33.3</td>\n",
       "      <td>0.394048</td>\n",
       "    </tr>\n",
       "    <tr>\n",
       "      <th>4</th>\n",
       "      <td>Angola</td>\n",
       "      <td>2.1</td>\n",
       "      <td>0.022619</td>\n",
       "    </tr>\n",
       "  </tbody>\n",
       "</table>\n",
       "</div>"
      ],
      "text/plain": [
       "    Unnamed: 0  Density  Doctor Density Scaled\n",
       "0  Afghanistan      2.5               0.027381\n",
       "1      Albania     18.8               0.221429\n",
       "2      Algeria     17.2               0.202381\n",
       "3      Andorra     33.3               0.394048\n",
       "4       Angola      2.1               0.022619"
      ]
     },
     "execution_count": 228,
     "metadata": {},
     "output_type": "execute_result"
    }
   ],
   "source": [
    "\n",
    "density_col = \"Density\"\n",
    "density_mean, density_std = dist.dist_info(mini_medical_doctors_access_df, density_col)\n",
    "dist.dist_plot(mini_medical_doctors_access_df, density_col, density_mean, density_std, 2, 115)\n",
    "mini_medical_doctors_access_df = dist.add_norm(mini_medical_doctors_access_df, density_col, \"Doctor Density Scaled\")\n",
    "mini_medical_doctors_access_df.head()"
   ]
  },
  {
   "cell_type": "markdown",
   "metadata": {},
   "source": [
    "Under-5 Mortality (Updated)"
   ]
  },
  {
   "cell_type": "code",
   "execution_count": 229,
   "metadata": {},
   "outputs": [
    {
     "data": {
      "text/html": [
       "<div>\n",
       "<style scoped>\n",
       "    .dataframe tbody tr th:only-of-type {\n",
       "        vertical-align: middle;\n",
       "    }\n",
       "\n",
       "    .dataframe tbody tr th {\n",
       "        vertical-align: top;\n",
       "    }\n",
       "\n",
       "    .dataframe thead th {\n",
       "        text-align: right;\n",
       "    }\n",
       "</style>\n",
       "<table border=\"1\" class=\"dataframe\">\n",
       "  <thead>\n",
       "    <tr style=\"text-align: right;\">\n",
       "      <th></th>\n",
       "      <th>Unnamed: 0</th>\n",
       "      <th>Life Expectancy for Both Sexes</th>\n",
       "      <th>Under-five mortality ratee (per 1000 live births)</th>\n",
       "    </tr>\n",
       "  </thead>\n",
       "  <tbody>\n",
       "    <tr>\n",
       "      <th>0</th>\n",
       "      <td>Afghanistan</td>\n",
       "      <td>63.2</td>\n",
       "      <td>58</td>\n",
       "    </tr>\n",
       "    <tr>\n",
       "      <th>1</th>\n",
       "      <td>Albania</td>\n",
       "      <td>78.0</td>\n",
       "      <td>2</td>\n",
       "    </tr>\n",
       "    <tr>\n",
       "      <th>2</th>\n",
       "      <td>Algeria</td>\n",
       "      <td>77.1</td>\n",
       "      <td>2</td>\n",
       "    </tr>\n",
       "    <tr>\n",
       "      <th>3</th>\n",
       "      <td>Andorra</td>\n",
       "      <td>NaN</td>\n",
       "      <td>2</td>\n",
       "    </tr>\n",
       "    <tr>\n",
       "      <th>4</th>\n",
       "      <td>Angola</td>\n",
       "      <td>63.1</td>\n",
       "      <td>2</td>\n",
       "    </tr>\n",
       "  </tbody>\n",
       "</table>\n",
       "</div>"
      ],
      "text/plain": [
       "    Unnamed: 0  Life Expectancy for Both Sexes  \\\n",
       "0  Afghanistan                            63.2   \n",
       "1      Albania                            78.0   \n",
       "2      Algeria                            77.1   \n",
       "3      Andorra                             NaN   \n",
       "4       Angola                            63.1   \n",
       "\n",
       "   Under-five mortality ratee (per 1000 live births)  \n",
       "0                                                 58  \n",
       "1                                                  2  \n",
       "2                                                  2  \n",
       "3                                                  2  \n",
       "4                                                  2  "
      ]
     },
     "execution_count": 229,
     "metadata": {},
     "output_type": "execute_result"
    }
   ],
   "source": [
    "life_exp_df = pd.read_excel('CSV/WHO22LifeExpectancy&InfantMortality.xlsx') \n",
    "life_exp_df.head()"
   ]
  },
  {
   "cell_type": "code",
   "execution_count": 230,
   "metadata": {},
   "outputs": [
    {
     "name": "stdout",
     "output_type": "stream",
     "text": [
      "Under-five mortality ratee (per 1000 live births)\n",
      "Mean: 26.675257731958762\n",
      "Std: 27.169449205688434\n",
      "\n"
     ]
    },
    {
     "data": {
      "image/png": "[encoded data removed]",
      "text/plain": [
       "<Figure size 640x480 with 1 Axes>"
      ]
     },
     "metadata": {},
     "output_type": "display_data"
    },
    {
     "data": {
      "text/html": [
       "<div>\n",
       "<style scoped>\n",
       "    .dataframe tbody tr th:only-of-type {\n",
       "        vertical-align: middle;\n",
       "    }\n",
       "\n",
       "    .dataframe tbody tr th {\n",
       "        vertical-align: top;\n",
       "    }\n",
       "\n",
       "    .dataframe thead th {\n",
       "        text-align: right;\n",
       "    }\n",
       "</style>\n",
       "<table border=\"1\" class=\"dataframe\">\n",
       "  <thead>\n",
       "    <tr style=\"text-align: right;\">\n",
       "      <th></th>\n",
       "      <th>Unnamed: 0</th>\n",
       "      <th>Life Expectancy for Both Sexes</th>\n",
       "      <th>Under-five mortality ratee (per 1000 live births)</th>\n",
       "      <th>Infant Death Scaled</th>\n",
       "    </tr>\n",
       "  </thead>\n",
       "  <tbody>\n",
       "    <tr>\n",
       "      <th>0</th>\n",
       "      <td>Afghanistan</td>\n",
       "      <td>63.2</td>\n",
       "      <td>58</td>\n",
       "      <td>0.495575</td>\n",
       "    </tr>\n",
       "    <tr>\n",
       "      <th>1</th>\n",
       "      <td>Albania</td>\n",
       "      <td>78.0</td>\n",
       "      <td>2</td>\n",
       "      <td>0.000000</td>\n",
       "    </tr>\n",
       "    <tr>\n",
       "      <th>2</th>\n",
       "      <td>Algeria</td>\n",
       "      <td>77.1</td>\n",
       "      <td>2</td>\n",
       "      <td>0.000000</td>\n",
       "    </tr>\n",
       "    <tr>\n",
       "      <th>3</th>\n",
       "      <td>Andorra</td>\n",
       "      <td>NaN</td>\n",
       "      <td>2</td>\n",
       "      <td>0.000000</td>\n",
       "    </tr>\n",
       "    <tr>\n",
       "      <th>4</th>\n",
       "      <td>Angola</td>\n",
       "      <td>63.1</td>\n",
       "      <td>2</td>\n",
       "      <td>0.000000</td>\n",
       "    </tr>\n",
       "  </tbody>\n",
       "</table>\n",
       "</div>"
      ],
      "text/plain": [
       "    Unnamed: 0  Life Expectancy for Both Sexes  \\\n",
       "0  Afghanistan                            63.2   \n",
       "1      Albania                            78.0   \n",
       "2      Algeria                            77.1   \n",
       "3      Andorra                             NaN   \n",
       "4       Angola                            63.1   \n",
       "\n",
       "   Under-five mortality ratee (per 1000 live births)  Infant Death Scaled  \n",
       "0                                                 58             0.495575  \n",
       "1                                                  2             0.000000  \n",
       "2                                                  2             0.000000  \n",
       "3                                                  2             0.000000  \n",
       "4                                                  2             0.000000  "
      ]
     },
     "execution_count": 230,
     "metadata": {},
     "output_type": "execute_result"
    }
   ],
   "source": [
    "infant_death_col = \"Under-five mortality ratee (per 1000 live births)\"\n",
    "infant_death_mean, infant_death_std = dist.dist_info(life_exp_df, infant_death_col)\n",
    "life_exp_df = life_exp_df[life_exp_df[infant_death_col] < 180]\n",
    "dist.dist_plot(life_exp_df, infant_death_col, infant_death_mean, infant_death_std, 2, 115)\n",
    "life_exp_df = dist.add_norm(life_exp_df, infant_death_col, \"Infant Death Scaled\")\n",
    "life_exp_df.head()\n"
   ]
  },
  {
   "cell_type": "markdown",
   "metadata": {},
   "source": [
    "Life Expectancy (Updated)"
   ]
  },
  {
   "cell_type": "code",
   "execution_count": 231,
   "metadata": {},
   "outputs": [
    {
     "name": "stdout",
     "output_type": "stream",
     "text": [
      "Life Expectancy for Both Sexes\n",
      "Mean: 72.53551912568307\n",
      "Std: 7.128367384590047\n",
      "\n"
     ]
    },
    {
     "data": {
      "image/png": "[encoded data removed]",
      "text/plain": [
       "<Figure size 640x480 with 1 Axes>"
      ]
     },
     "metadata": {},
     "output_type": "display_data"
    },
    {
     "data": {
      "text/html": [
       "<div>\n",
       "<style scoped>\n",
       "    .dataframe tbody tr th:only-of-type {\n",
       "        vertical-align: middle;\n",
       "    }\n",
       "\n",
       "    .dataframe tbody tr th {\n",
       "        vertical-align: top;\n",
       "    }\n",
       "\n",
       "    .dataframe thead th {\n",
       "        text-align: right;\n",
       "    }\n",
       "</style>\n",
       "<table border=\"1\" class=\"dataframe\">\n",
       "  <thead>\n",
       "    <tr style=\"text-align: right;\">\n",
       "      <th></th>\n",
       "      <th>Unnamed: 0</th>\n",
       "      <th>Life Expectancy for Both Sexes</th>\n",
       "      <th>Under-five mortality ratee (per 1000 live births)</th>\n",
       "      <th>Infant Death Scaled</th>\n",
       "      <th>Life Exp Scaled</th>\n",
       "    </tr>\n",
       "  </thead>\n",
       "  <tbody>\n",
       "    <tr>\n",
       "      <th>0</th>\n",
       "      <td>Afghanistan</td>\n",
       "      <td>63.2</td>\n",
       "      <td>58</td>\n",
       "      <td>0.495575</td>\n",
       "      <td>0.372024</td>\n",
       "    </tr>\n",
       "    <tr>\n",
       "      <th>1</th>\n",
       "      <td>Albania</td>\n",
       "      <td>78.0</td>\n",
       "      <td>2</td>\n",
       "      <td>0.000000</td>\n",
       "      <td>0.812500</td>\n",
       "    </tr>\n",
       "    <tr>\n",
       "      <th>2</th>\n",
       "      <td>Algeria</td>\n",
       "      <td>77.1</td>\n",
       "      <td>2</td>\n",
       "      <td>0.000000</td>\n",
       "      <td>0.785714</td>\n",
       "    </tr>\n",
       "    <tr>\n",
       "      <th>3</th>\n",
       "      <td>Andorra</td>\n",
       "      <td>NaN</td>\n",
       "      <td>2</td>\n",
       "      <td>0.000000</td>\n",
       "      <td>NaN</td>\n",
       "    </tr>\n",
       "    <tr>\n",
       "      <th>4</th>\n",
       "      <td>Angola</td>\n",
       "      <td>63.1</td>\n",
       "      <td>2</td>\n",
       "      <td>0.000000</td>\n",
       "      <td>0.369048</td>\n",
       "    </tr>\n",
       "  </tbody>\n",
       "</table>\n",
       "</div>"
      ],
      "text/plain": [
       "    Unnamed: 0  Life Expectancy for Both Sexes  \\\n",
       "0  Afghanistan                            63.2   \n",
       "1      Albania                            78.0   \n",
       "2      Algeria                            77.1   \n",
       "3      Andorra                             NaN   \n",
       "4       Angola                            63.1   \n",
       "\n",
       "   Under-five mortality ratee (per 1000 live births)  Infant Death Scaled  \\\n",
       "0                                                 58             0.495575   \n",
       "1                                                  2             0.000000   \n",
       "2                                                  2             0.000000   \n",
       "3                                                  2             0.000000   \n",
       "4                                                  2             0.000000   \n",
       "\n",
       "   Life Exp Scaled  \n",
       "0         0.372024  \n",
       "1         0.812500  \n",
       "2         0.785714  \n",
       "3              NaN  \n",
       "4         0.369048  "
      ]
     },
     "execution_count": 231,
     "metadata": {},
     "output_type": "execute_result"
    }
   ],
   "source": [
    "life_exp_col = \"Life Expectancy for Both Sexes\"\n",
    "life_exp_mean, life_exp_std = dist.dist_info(life_exp_df, life_exp_col)\n",
    "# life_exp_df = life_exp_df[life_exp_df[infant_death_col] < 180]\n",
    "dist.dist_plot(life_exp_df, life_exp_col, life_exp_mean, life_exp_std, 2, 115)\n",
    "life_exp_df = dist.add_norm(life_exp_df, life_exp_col, \"Life Exp Scaled\")\n",
    "life_exp_df.head()"
   ]
  },
  {
   "cell_type": "code",
   "execution_count": null,
   "metadata": {},
   "outputs": [],
   "source": [
    "sns.displot(life_exp_df[\"Life Expectancy for Both Sexes\"], x=\"Life Expectancy for Both Sexes\", kind=\"kde\", bw_adjust=2)\n"
   ]
  },
  {
   "cell_type": "code",
   "execution_count": 232,
   "metadata": {},
   "outputs": [],
   "source": [
    "def add_sv(row, df, col):\n",
    "    country = row[\"Country\"]\n",
    "    country_df = df[df[\"Unnamed: 0\"] == country]\n",
    "\n",
    "    if (len(country_df.index) != 0):\n",
    "        return country_df.iloc[0][col]"
   ]
  },
  {
   "cell_type": "code",
   "execution_count": 233,
   "metadata": {},
   "outputs": [],
   "source": [
    "\n",
    "\n",
    "update_df = pd.read_csv(\"CSV/full_dataset2.csv\")\n",
    "\n",
    "# country = update_df.iloc[1][\"Country\"]\n",
    "# print(country)\n",
    "# country_df = mini_important[mini_important[\"Country\"] == \"hi\"]\n",
    "\n",
    "# print(len(country_df.index))\n",
    "# country_df.head()\n",
    "\n",
    "update_df[\"Life Exp SV\"] = update_df.apply(lambda x: add_sv(x, life_exp_df, \"Life Exp Scaled\"), axis=1)\n",
    "update_df[\"Infant SV\"] = update_df.apply(lambda x: add_sv(x, life_exp_df, \"Infant Death Scaled\"), axis=1)\n",
    "\n",
    "\n",
    "update_df.to_csv('CSV/full_dataset2.csv')\n",
    "\n",
    "\n",
    "#print(mini_important.to_string())"
   ]
  },
  {
   "cell_type": "code",
   "execution_count": 234,
   "metadata": {},
   "outputs": [
    {
     "data": {
      "text/html": [
       "<div>\n",
       "<style scoped>\n",
       "    .dataframe tbody tr th:only-of-type {\n",
       "        vertical-align: middle;\n",
       "    }\n",
       "\n",
       "    .dataframe tbody tr th {\n",
       "        vertical-align: top;\n",
       "    }\n",
       "\n",
       "    .dataframe thead th {\n",
       "        text-align: right;\n",
       "    }\n",
       "</style>\n",
       "<table border=\"1\" class=\"dataframe\">\n",
       "  <thead>\n",
       "    <tr style=\"text-align: right;\">\n",
       "      <th></th>\n",
       "      <th>Country</th>\n",
       "      <th>Total_Spent</th>\n",
       "      <th>Imm_SV</th>\n",
       "      <th>Life Exp SV</th>\n",
       "      <th>Infant SV</th>\n",
       "    </tr>\n",
       "  </thead>\n",
       "  <tbody>\n",
       "    <tr>\n",
       "      <th>0</th>\n",
       "      <td>Australia</td>\n",
       "      <td>5627.315</td>\n",
       "      <td>0.847195</td>\n",
       "      <td>0.961310</td>\n",
       "      <td>0.000000</td>\n",
       "    </tr>\n",
       "    <tr>\n",
       "      <th>1</th>\n",
       "      <td>Austria</td>\n",
       "      <td>5882.745</td>\n",
       "      <td>0.857283</td>\n",
       "      <td>0.919643</td>\n",
       "      <td>0.000000</td>\n",
       "    </tr>\n",
       "    <tr>\n",
       "      <th>2</th>\n",
       "      <td>Belgium</td>\n",
       "      <td>5406.979</td>\n",
       "      <td>0.942585</td>\n",
       "      <td>0.913690</td>\n",
       "      <td>0.008850</td>\n",
       "    </tr>\n",
       "    <tr>\n",
       "      <th>3</th>\n",
       "      <td>Canada</td>\n",
       "      <td>5828.324</td>\n",
       "      <td>0.802411</td>\n",
       "      <td>0.937500</td>\n",
       "      <td>0.017699</td>\n",
       "    </tr>\n",
       "    <tr>\n",
       "      <th>4</th>\n",
       "      <td>Denmark</td>\n",
       "      <td>5693.651</td>\n",
       "      <td>0.859252</td>\n",
       "      <td>0.910714</td>\n",
       "      <td>0.035398</td>\n",
       "    </tr>\n",
       "  </tbody>\n",
       "</table>\n",
       "</div>"
      ],
      "text/plain": [
       "     Country  Total_Spent    Imm_SV  Life Exp SV  Infant SV\n",
       "0  Australia     5627.315  0.847195     0.961310   0.000000\n",
       "1    Austria     5882.745  0.857283     0.919643   0.000000\n",
       "2    Belgium     5406.979  0.942585     0.913690   0.008850\n",
       "3     Canada     5828.324  0.802411     0.937500   0.017699\n",
       "4    Denmark     5693.651  0.859252     0.910714   0.035398"
      ]
     },
     "execution_count": 234,
     "metadata": {},
     "output_type": "execute_result"
    }
   ],
   "source": [
    "\n",
    "update_df = update_df[[\"Country\", \"Total_Spent\", \"Imm_SV\", \"Life Exp SV\", \"Infant SV\"]]\n",
    "update_df.to_csv('CSV/full_dataset2.csv')\n",
    "\n",
    "#update_df = update_df.dropna()\n",
    "update_df.head()\n",
    "\n"
   ]
  },
  {
   "cell_type": "code",
   "execution_count": 235,
   "metadata": {},
   "outputs": [],
   "source": [
    "mini_medical_doctors_access_df.head()\n",
    "\n",
    "update_df[\"Doctor Density SV\"] = update_df.apply(lambda x: add_sv(x, mini_medical_doctors_access_df, \"Doctor Density Scaled\"), axis=1)\n",
    "\n",
    "update_df = update_df.dropna()\n",
    "\n",
    "update_df.to_csv('CSV/full_dataset2.csv')\n",
    "\n",
    "\n"
   ]
  }
 ],
 "metadata": {
  "kernelspec": {
   "display_name": "Python 3",
   "language": "python",
   "name": "python3"
  },
  "language_info": {
   "codemirror_mode": {
    "name": "ipython",
    "version": 3
   },
   "file_extension": ".py",
   "mimetype": "text/x-python",
   "name": "python",
   "nbconvert_exporter": "python",
   "pygments_lexer": "ipython3",
   "version": "3.9.12"
  },
  "orig_nbformat": 4,
  "vscode": {
   "interpreter": {
    "hash": "b0fa6594d8f4cbf19f97940f81e996739fb7646882a419484c72d19e05852a7e"
   }
  }
 },
 "nbformat": 4,
 "nbformat_minor": 2
}
